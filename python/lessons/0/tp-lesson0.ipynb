{
 "metadata": {
  "name": ""
 },
 "nbformat": 3,
 "nbformat_minor": 0,
 "worksheets": [
  {
   "cells": [
    {
     "cell_type": "markdown",
     "metadata": {},
     "source": [
      "# Lesson 0: Hands-on Python Introduction\n",
      "\n",
      "In this notebook, we will review the basic features of [Python 2](https://docs.python.org/2/).  We will not review basic programming skills, instead assuming that you are familiar with one or more programming languages.  Instead, we will go over the keywords, and key language constructs which should transform you into a Pythonista in no time!"
     ]
    },
    {
     "cell_type": "code",
     "collapsed": false,
     "input": [
      "print 'Hello World!'"
     ],
     "language": "python",
     "metadata": {},
     "outputs": [
      {
       "output_type": "stream",
       "stream": "stdout",
       "text": [
        "Hello World!\n"
       ]
      }
     ],
     "prompt_number": 1
    },
    {
     "cell_type": "markdown",
     "metadata": {},
     "source": [
      "See, that was easy---the \"Hello World\" program in Python is simply just a single line using the built-in [```print```](https://docs.python.org/2/reference/simple_stmts.html#print).  You will often see actual Python scripts have at least [one extra line](http://en.wikipedia.org/wiki/Shebang_%28Unix%29#Portability) (on UNIX-like systems such as Linux and OS X).  This line tells the host OS how to execute the content of the file:"
     ]
    },
    {
     "cell_type": "code",
     "collapsed": false,
     "input": [
      "#!/usr/bin/env python\n",
      "\n",
      "print 'Hello World!'"
     ],
     "language": "python",
     "metadata": {},
     "outputs": [
      {
       "output_type": "stream",
       "stream": "stdout",
       "text": [
        "Hello World!\n"
       ]
      }
     ],
     "prompt_number": 2
    },
    {
     "cell_type": "markdown",
     "metadata": {},
     "source": [
      "Let's try something more complex.  Python syntax approaches commonly accepted syntax for pseudo-code, so you can often easily translate algorithm descriptions from academic papers or textbooks directly into Python programs.\n",
      "\n",
      "Checkout Wikipedia's pseudo-code description of [Quicksort](http://en.wikipedia.org/wiki/Quicksort#Algorithm)."
     ]
    },
    {
     "cell_type": "code",
     "collapsed": false,
     "input": [
      "def quicksort(A, lo, hi):\n",
      "    if lo < hi:\n",
      "        p = partition(A, lo, hi)\n",
      "        quicksort(A, lo, p - 1)\n",
      "        quicksort(A, p + 1, hi)"
     ],
     "language": "python",
     "metadata": {},
     "outputs": [],
     "prompt_number": 3
    },
    {
     "cell_type": "markdown",
     "metadata": {},
     "source": [
      "See, that was almost exactly the same as the pseudo-code.  We've only added in the keyword ```def``` to define a function value, and the assignment operator ```:=``` becomes simply ```=``` in Python."
     ]
    },
    {
     "cell_type": "code",
     "collapsed": false,
     "input": [
      "def partition(A, lo, hi):\n",
      "    pivotIndex = lo\n",
      "    pivotValue = A[pivotIndex]\n",
      "    A[pivotIndex],A[hi] = A[hi],A[pivotIndex]\n",
      "    storeIndex = lo\n",
      "    for i in xrange(lo, hi):\n",
      "        if A[i] < pivotValue:\n",
      "            A[i],A[storeIndex] = A[storeIndex],A[i]\n",
      "            storeIndex = storeIndex + 1\n",
      "    A[storeIndex],A[hi] = A[hi],A[storeIndex]\n",
      "    return storeIndex"
     ],
     "language": "python",
     "metadata": {},
     "outputs": [],
     "prompt_number": 4
    },
    {
     "cell_type": "markdown",
     "metadata": {},
     "source": [
      "Okay, that was super easy.  Now, how do we test our Quicksort implementation?  Let's generate a bunch of random numbers and run our quicksort on them!  We'll describe the magic ```xrange``` in a little bit.  Don't worry!"
     ]
    },
    {
     "cell_type": "code",
     "collapsed": false,
     "input": [
      "from random import randint"
     ],
     "language": "python",
     "metadata": {},
     "outputs": [],
     "prompt_number": 5
    },
    {
     "cell_type": "markdown",
     "metadata": {},
     "source": [
      "This is a specific [import](https://docs.python.org/2/tutorial/modules.html#more-on-modules) of a single function from the [```random```](https://docs.python.org/2/library/random.html) module.  This function will generate random integers."
     ]
    },
    {
     "cell_type": "code",
     "collapsed": false,
     "input": [
      "A = [randint(0,100) for i in xrange(100)]"
     ],
     "language": "python",
     "metadata": {},
     "outputs": [],
     "prompt_number": 6
    },
    {
     "cell_type": "markdown",
     "metadata": {},
     "source": [
      "Wow! That's some crazy syntax.  That line creates a list of 100 integers, with random values between 0 and 100 (including the endpoints, so the domain is $[0,100]$ in this case).  How does it do it?  This is a Python construct called a [List Comprehension](https://docs.python.org/2/tutorial/datastructures.html#list-comprehensions).  There are two primary methods for iterating with a counter in a ```for``` loop: [```range```](https://docs.python.org/2/library/functions.html#range) and [```xrange```](https://docs.python.org/2/library/functions.html#xrange).  I tend to use ```xrange``` because ```range``` creates an entire list first which can use all of memory rather quickly, whereas ```xrange``` increments and evaluates lazily."
     ]
    },
    {
     "cell_type": "code",
     "collapsed": false,
     "input": [
      "B = sorted(A)"
     ],
     "language": "python",
     "metadata": {},
     "outputs": [],
     "prompt_number": 7
    },
    {
     "cell_type": "markdown",
     "metadata": {},
     "source": [
      "Here we have sorted the array ```A``` using the Python built-in [```sorted```](https://docs.python.org/2/library/functions.html#sorted) which returns a new sorted list (using double the memory).  This will be useful, as the newly created array ```B``` is properly sorted and we use it to check our Quicksort implementation."
     ]
    },
    {
     "cell_type": "code",
     "collapsed": false,
     "input": [
      "print A"
     ],
     "language": "python",
     "metadata": {},
     "outputs": [
      {
       "output_type": "stream",
       "stream": "stdout",
       "text": [
        "[96, 97, 88, 94, 37, 71, 78, 0, 24, 11, 55, 67, 82, 95, 67, 88, 53, 3, 89, 59, 59, 62, 18, 69, 4, 71, 48, 1, 0, 27, 19, 24, 55, 88, 54, 31, 74, 23, 14, 73, 10, 71, 86, 62, 58, 95, 47, 59, 50, 35, 19, 3, 22, 47, 5, 6, 85, 58, 78, 1, 78, 99, 50, 40, 64, 85, 71, 34, 79, 9, 9, 54, 97, 85, 21, 24, 87, 66, 87, 76, 81, 71, 71, 52, 34, 40, 54, 92, 51, 14, 48, 57, 54, 68, 82, 2, 40, 14, 60, 5]\n"
       ]
      }
     ],
     "prompt_number": 8
    },
    {
     "cell_type": "code",
     "collapsed": false,
     "input": [
      "print B"
     ],
     "language": "python",
     "metadata": {},
     "outputs": [
      {
       "output_type": "stream",
       "stream": "stdout",
       "text": [
        "[0, 0, 1, 1, 2, 3, 3, 4, 5, 5, 6, 9, 9, 10, 11, 14, 14, 14, 18, 19, 19, 21, 22, 23, 24, 24, 24, 27, 31, 34, 34, 35, 37, 40, 40, 40, 47, 47, 48, 48, 50, 50, 51, 52, 53, 54, 54, 54, 54, 55, 55, 57, 58, 58, 59, 59, 59, 60, 62, 62, 64, 66, 67, 67, 68, 69, 71, 71, 71, 71, 71, 71, 73, 74, 76, 78, 78, 78, 79, 81, 82, 82, 85, 85, 85, 86, 87, 87, 88, 88, 88, 89, 92, 94, 95, 95, 96, 97, 97, 99]\n"
       ]
      }
     ],
     "prompt_number": 9
    },
    {
     "cell_type": "markdown",
     "metadata": {},
     "source": [
      "As expected, array ```A``` remains unsorted, while array ```B``` is in sorted order."
     ]
    },
    {
     "cell_type": "code",
     "collapsed": false,
     "input": [
      "quicksort(A, 0, len(A) - 1)"
     ],
     "language": "python",
     "metadata": {},
     "outputs": [],
     "prompt_number": 10
    },
    {
     "cell_type": "markdown",
     "metadata": {},
     "source": [
      "Okay, so this is how you call our simple function ```quicksort```.  The only interesting new bit is the Python [```len```](https://docs.python.org/2/library/functions.html#len) function which returns the length of a container (generally lists)."
     ]
    },
    {
     "cell_type": "code",
     "collapsed": false,
     "input": [
      "assert A == B"
     ],
     "language": "python",
     "metadata": {},
     "outputs": [],
     "prompt_number": 11
    },
    {
     "cell_type": "markdown",
     "metadata": {},
     "source": [
      "There you have it!  [```assert```](https://docs.python.org/2/reference/simple_stmts.html#grammar-token-assert_stmt) throws an exception if the given expression evaluates to [```False```](https://docs.python.org/2/library/constants.html#False).  In this case, we got no such exception; thus, we can conclude that for this example, our Quicksort implementation provides the correct result."
     ]
    }
   ],
   "metadata": {}
  }
 ]
}
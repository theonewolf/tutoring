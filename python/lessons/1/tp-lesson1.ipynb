{
 "metadata": {
  "name": ""
 },
 "nbformat": 3,
 "nbformat_minor": 0,
 "worksheets": [
  {
   "cells": [
    {
     "cell_type": "markdown",
     "metadata": {},
     "source": [
      "Here's the cowboy method of brute simulation (probably my favorite way of exploring problems).  I don't think I did this on the extra credit because of my easier shower idea (plus it was EC and the homeworks were kind of large).\n",
      "\n",
      "Anyways, I was super curious to see if empirically the answer seemed to be distributed around a 1.75 value, or the 1.565 value.\n",
      "\n",
      "First, generating `n` random values:"
     ]
    },
    {
     "cell_type": "code",
     "collapsed": false,
     "input": [
      "from random import randint\n",
      "\n",
      "def gen_rand_nums(n):\n",
      "    for i in range(n):\n",
      "        yield randint(1,100)"
     ],
     "language": "python",
     "metadata": {},
     "outputs": [],
     "prompt_number": 3
    },
    {
     "cell_type": "markdown",
     "metadata": {},
     "source": [
      "Then to run trials (trying to keep this simple and dumb to catch bugs---I find generating random things often tricky):"
     ]
    },
    {
     "cell_type": "code",
     "collapsed": false,
     "input": [
      "def rand_trial(n):\n",
      "    if n <= 50:\n",
      "        return 1\n",
      "    if n <= 75:\n",
      "        return 2\n",
      "    if n <= 100:\n",
      "        return 3"
     ],
     "language": "python",
     "metadata": {},
     "outputs": [],
     "prompt_number": 5
    },
    {
     "cell_type": "markdown",
     "metadata": {},
     "source": [
      "Now for running the whole thing:"
     ]
    },
    {
     "cell_type": "code",
     "collapsed": false,
     "input": [
      "def run_trials(n):\n",
      "    product = 1\n",
      "    for i in gen_rand_nums(n):\n",
      "        product *= rand_trial(i)\n",
      "    return product ** (1 / n)"
     ],
     "language": "python",
     "metadata": {},
     "outputs": [],
     "prompt_number": 6
    },
    {
     "cell_type": "markdown",
     "metadata": {},
     "source": [
      "And some test runs/output:"
     ]
    },
    {
     "cell_type": "code",
     "collapsed": false,
     "input": [
      "print(run_trials(100))\n",
      "print(run_trials(250))\n",
      "print(run_trials(500))\n",
      "print(run_trials(1000))\n",
      "print(run_trials(1200))\n",
      "print(run_trials(1300))"
     ],
     "language": "python",
     "metadata": {},
     "outputs": [
      {
       "output_type": "stream",
       "stream": "stdout",
       "text": [
        "1.4892039780975725\n",
        "1.5584266462422762\n",
        "1.591381491721272\n",
        "1.563631740023799\n",
        "1.5638235281980817\n",
        "1.5712215952419577\n"
       ]
      }
     ],
     "prompt_number": 12
    },
    {
     "cell_type": "code",
     "collapsed": false,
     "input": [],
     "language": "python",
     "metadata": {},
     "outputs": []
    }
   ],
   "metadata": {}
  }
 ]
}